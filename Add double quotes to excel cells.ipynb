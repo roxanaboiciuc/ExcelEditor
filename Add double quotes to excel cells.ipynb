{
 "cells": [
  {
   "cell_type": "code",
   "execution_count": 1,
   "id": "4c5bb0bc-c85f-40e3-b4f5-d29e27132287",
   "metadata": {},
   "outputs": [
    {
     "name": "stdout",
     "output_type": "stream",
     "text": [
      "Loading workbook: /home/roxana/Documents/Learning/python/DoubleQuotes/input.xlsx\n",
      "Workbook loaded successfully.\n",
      "File saved to /home/roxana/Documents/Learning/python/DoubleQuotes/output.xlsx\n"
     ]
    }
   ],
   "source": [
    "import openpyxl\n",
    "import os\n",
    "\n",
    "# Define file paths at the beginning\n",
    "INPUT_FILE = \"/home/roxana/Documents/Learning/python/DoubleQuotes/input.xlsx\"\n",
    "OUTPUT_FILE = \"/home/roxana/Documents/Learning/python/DoubleQuotes/output.xlsx\"\n",
    "\n",
    "def add_quotes_to_excel(file_path, output_path):\n",
    "    try:\n",
    "        # Check if the input file exists\n",
    "        if not os.path.exists(file_path):\n",
    "            print(f\"Error: Input file '{file_path}' not found.\")\n",
    "            return\n",
    "        \n",
    "        print(f\"Loading workbook: {file_path}\")\n",
    "        workbook = openpyxl.load_workbook(file_path)\n",
    "        print(\"Workbook loaded successfully.\")\n",
    "\n",
    "        # Loop through all sheets in the workbook\n",
    "        for sheet in workbook.sheetnames:\n",
    "            worksheet = workbook[sheet]\n",
    "\n",
    "            # Loop through all rows, starting from the second row (skip the header)\n",
    "            for row in worksheet.iter_rows(min_row=2):  # <-- min_row=2 skips the first row\n",
    "                for cell in row:\n",
    "                    if cell.value is not None:\n",
    "                        # Add double quotes before and after the cell value\n",
    "                        cell.value = f'\"{cell.value}\"'\n",
    "\n",
    "        # Save the updated workbook to the output file\n",
    "        workbook.save(output_path)\n",
    "        print(f\"File saved to {output_path}\")\n",
    "\n",
    "    except Exception as e:\n",
    "        print(f\"An error occurred: {e}\")\n",
    "\n",
    "# Run the function using the predefined paths\n",
    "add_quotes_to_excel(INPUT_FILE, OUTPUT_FILE)\n"
   ]
  },
  {
   "cell_type": "code",
   "execution_count": null,
   "id": "629e1891-52eb-481b-8429-7ace6d652415",
   "metadata": {},
   "outputs": [],
   "source": []
  }
 ],
 "metadata": {
  "kernelspec": {
   "display_name": "Python 3",
   "language": "python",
   "name": "python3"
  },
  "language_info": {
   "codemirror_mode": {
    "name": "ipython",
    "version": 3
   },
   "file_extension": ".py",
   "mimetype": "text/x-python",
   "name": "python",
   "nbconvert_exporter": "python",
   "pygments_lexer": "ipython3",
   "version": "3.10.12"
  }
 },
 "nbformat": 4,
 "nbformat_minor": 5
}
